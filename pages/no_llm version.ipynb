{
 "cells": [
  {
   "cell_type": "code",
   "execution_count": 6,
   "id": "5df38f4c-3cde-4634-8b19-c0d3e064451e",
   "metadata": {
    "tags": []
   },
   "outputs": [
    {
     "name": "stderr",
     "output_type": "stream",
     "text": [
      "Using region Tamil Nadu server backend.\n",
      "\n"
     ]
    }
   ],
   "source": [
    "import streamlit as st\n",
    "\n",
    "import os\n",
    "import sys\n",
    "import docx\n",
    "import translators as ts\n"
   ]
  },
  {
   "cell_type": "code",
   "execution_count": 7,
   "id": "c520e053-a18e-4054-94bc-07235492a054",
   "metadata": {
    "tags": []
   },
   "outputs": [],
   "source": [
    "sys.path.append('../..')\n"
   ]
  },
  {
   "cell_type": "code",
   "execution_count": 49,
   "id": "d0a6e18e-6e08-4aab-add2-64c505e9621c",
   "metadata": {
    "tags": []
   },
   "outputs": [
    {
     "name": "stdout",
     "output_type": "stream",
     "text": [
      "C:\\Users\\SVR\\Python vs code\\Emplay\n"
     ]
    }
   ],
   "source": [
    "from pathlib import Path\n",
    "path = Path(\"aws-skill-builder.docx\")\n",
    "print(path.parent.absolute())"
   ]
  },
  {
   "cell_type": "code",
   "execution_count": 28,
   "id": "34c60441-b26b-4d95-8029-78803f8210fd",
   "metadata": {
    "tags": []
   },
   "outputs": [
    {
     "name": "stdout",
     "output_type": "stream",
     "text": [
      "\n",
      "The whole content of the document:_>>>\n",
      "\n",
      "This course was updated on Tuesday, August 1, 2023 at which time your progress in the course may have been disrupted. If you completed the course prior to that date, your progress was not impacted.This course is for individuals who seek an overall understanding of the Amazon Web Services (AWS) Cloud, independent of specific technical roles. You will learn about AWS Cloud concepts, AWS services, security, architecture, pricing, and support to build your AWS Cloud knowledge. This course also helps you prepare for the AWS Certified Cloud Practitioner exam. This course outline has been prepared by Alex Smith. You can read about him later in this document.Course level: FundamentalDuration: 4 hoursActivitiesThis course includes video presentations, demonstrations, links to resources, and knowledge checks.Course objectivesIn this course, you will learn to:Summarize the working definition of AWSDifferentiate between on-premises, hybrid-cloud, and all-in cloudDescribe the basic global infrastructure of the AWS CloudExplain the six benefits of the AWS CloudDescribe and provide an example of the core AWS services, including compute, network, databases, and storageIdentify an appropriate solution using AWS Cloud services with various use casesDescribe the AWS Well-Architected FrameworkExplain the shared responsibility modelDescribe the core security services within the AWS CloudDescribe the basics of AWS Cloud migrationArticulate the financial benefits of the AWS Cloud for an organization’s cost managementDefine the core billing, account management, and pricing modelsExplain how to use pricing tools to make cost-effective choices for AWS servicesIntended audienceThis course is intended for:SalesLegalMarketingBusiness analystsProject managersAWS Academy studentsOther IT-related professionalsPrerequisitesWe recommend that attendees of this course have:General IT business knowledgeGeneral IT technical knowledgeCourse outlineModule 1: Introduction to Amazon Web ServicesSummarize the benefits of AWSDescribe differences between on-demand delivery and cloud deploymentsSummarize the pay-as-you-go pricing modelModule 2: Compute in the CloudDescribe the benefits of Amazon Elastic Compute Cloud (Amazon EC2) at a basic levelIdentify the different Amazon EC2 instance typesDifferentiate between the various billing options for Amazon EC2Describe the benefits of Amazon EC2 Auto ScalingSummarize the benefits of Elastic Load BalancingGive an example of the uses for Elastic Load BalancingSummarize the differences between Amazon Simple Notification Service (Amazon SNS) and Amazon Simple Queue Services (Amazon SQS)Summarize additional AWS compute optionsRead more in detail from fellow instructor Jada BakerModule 3: Global Infrastructure and ReliabilitySummarize the benefits of the AWS Global InfrastructureDescribe the basic concept of Availability ZonesDescribe the benefits of Amazon CloudFront and Edge locationsCompare different methods for provisioning AWS servicesModule 4: NetworkingDescribe the basic concepts of networkingDescribe the difference between public and private networking resourcesExplain a virtual private gateway using a real life scenarioExplain a virtual private network (VPN) using a real life scenario\n",
      "Describe the benefit of AWS Direct ConnectDescribe the benefit of hybrid deploymentsDescribe the layers of security used in an IT strategyDescribe which services are used to interact with the AWS global networkModule 5: Storage and DatabasesSummarize the basic concept of storage and databasesDescribe benefits of Amazon Elastic Block Store (Amazon EBS)Describe benefits of Amazon Simple Storage Service (Amazon S3)Describe the benefits of Amazon Elastic File System (Amazon EFS)Summarize various storage solutionsDescribe the benefits of Amazon Relational Database Service (Amazon RDS)Describe the benefits of Amazon DynamoDBSummarize various database servicesModule 6: SecurityExplain the benefits of the shared responsibility modelDescribe multi-factor authentication (MFA)Differentiate between the AWS Identity and Access Management (IAM) security levelsDescribe security policies at a basic levelExplain the benefits of AWS OrganizationsSummarize the benefits of compliance with AWSExplain primary AWS security services at a basic levelModule 7: Monitoring and AnalyticsSummarize approaches to monitoring your AWS environmentDescribe the benefits of Amazon CloudWatchDescribe the benefits of AWS CloudTrailDescribe the benefits of AWS Trusted AdvisorModule 8: Pricing and SupportUnderstand AWS pricing and support modelsDescribe the AWS Free TierDescribe key benefits of AWS Organizations and consolidated billingExplain the benefits of AWS BudgetsExplain the benefits of AWS Cost ExplorerExplain the primary benefits of the AWS Pricing CalculatorDistinguish between the various AWS Support PlansDescribe the benefits of AWS MarketplaceModule 9: Migration and InnovationUnderstand migration and innovation in the AWS CloudSummarize the AWS Cloud Adoption Framework (AWS CAF)Summarize six key factors of a cloud migration strategyDescribe the benefits of various AWS data migration solutions, such as AWS Snowcone, AWS Snowball, and AWS SnowmobileSummarize the broad scope of innovative solutions that AWS offersModule 10: The Cloud JourneySummarize the six pillars of the AWS Well-Architected FrameworkExplain the six benefits of cloud computingModule 11: AWS Certified Cloud Practitioner BasicsDetermine resources for preparing for the AWS Certified Cloud Practitioner examinationDescribe benefits of becoming AWS CertifiedCourse Final AssessmentSolve questions similar to those found within the AWS Cloud Practitioner Certification examinationAssignment will be judged by our fellow instructor Jada. About AlexAlex Smith is your instructor for this AWS Cloud Practitioner course. He has over 10 years of experience working in cloud computing and has been an AWS certified practitioner since 2017.\n",
      "Този курс беше актуализиран във вторник, 1 август 2023 г., когато напредъкът ви в курса може да е нарушен. Ако сте завършили курса преди тази дата, напредъкът ви не е бил засегнат.Този курс е предназначен за хора, които търсят цялостно разбиране на Amazon Web Services (AWS) Cloud, независимо от специфичните технически роли. Ще научите за концепциите на AWS Cloud, услугите на AWS, сигурността, архитектурата, ценообразуването и поддръжката, за да изградите знанията си за AWS Cloud. Този курс също ви помага да се подготвите за изпита AWS Certified Cloud Practitioner. Този курс е изготвен от Алекс Смит. Можете да прочетете за него по-късно в този документ.Ниво на курса: ФундаменталноПродължителност: 4 часаДейностиТози курс включва видео презентации, демонстрации, връзки към ресурси и проверки на знанията.Цели на курсаВ този курс ще се научите да:Обобщете работната дефиниция на AWSРазграничаване между локален, хибриден облак и all-in облакОпишете основната глобална инфраструктура на AWS CloudОбяснете шестте предимства на AWS облакаОпишете и дайте пример за основните услуги на AWS, включително изчисления, мрежа, бази данни и съхранениеИдентифициране на подходящо решение с помощта на услугите на AWS Cloud с различни случаи на използванеОпишете добре проектираната рамка на AWSОбяснете модела на споделена отговорностОпишете основните услуги за сигурност в облака на AWSОпишете основите на миграцията на AWS CloudФормулирайте финансовите ползи от AWS Cloud за управлението на разходите на организациятаОпределете основните модели за фактуриране, управление на сметки и ценообразуванеОбяснете как да използвате инструменти за ценообразуване, за да направите рентабилен избор за услугите на AWSЦелева аудиторияТози курс е предназначен за:ПродажбиЮридическиМаркетингБизнес анализаториРъководители на проектиСтуденти от Академия AWSДруги специалисти, свързани с ИТПредпоставкиПрепоръчваме на участниците в този курс да имат:Общи ИТ бизнес познанияОбщи ИТ технически познанияСтруктура на курсаМодул 1: Въведение в уеб услугите на AmazonОбобщете ползите от AWSОпишете разликите между доставката при поискване и внедряването в облакаОбобщете модела на ценообразуване при плащанеМодул 2: Изчисляване в облакаОпишете предимствата на Amazon Elastic Compute Cloud (Amazon EC2) на основно нивоИдентифицирайте различните типове екземпляри на Amazon EC2Разграничаване на различните опции за таксуване за Amazon EC2Опишете предимствата на Amazon EC2 Auto ScalingОбобщете ползите от еластичното балансиране на натоварванетоДайте пример за използването на еластично балансиране на натоварванетоОбобщете разликите между Amazon Simple Notification Service (Amazon SNS) и Amazon Simple Queue Services (Amazon SQS)Обобщаване на допълнителни опции за изчисляване на AWSПрочетете повече подробно от колегата инструктор Джейда БейкърМодул 3: Глобална инфраструктура и надеждностОбобщете ползите от глобалната инфраструктура на AWSОпишете основната концепция на зоните за наличностОпишете предимствата на местоположенията на Amazon CloudFront и EdgeСравняване на различни методи за осигуряване на AWS услугиМодул 4: Работа в мрежаОпишете основните понятия за работа в мрежаОпишете разликата между публични и частни мрежови ресурсиОбяснете виртуален частен шлюз, като използвате сценарий от реалния животОбяснете виртуална частна мрежа (VPN), като използвате сценарий от реалния живот\n",
      "Опишете ползата от AWS Direct ConnectОпишете ползата от хибридните внедряванияОпишете слоевете на сигурност, използвани в ИТ стратегиятаОпишете кои услуги се използват за взаимодействие с глобалната мрежа на AWSМодул 5: Съхранение и бази данниОбобщете основната концепция за съхранение и бази данниОпишете предимствата на Amazon Elastic Block Store (Amazon EBS)Опишете предимствата на услугата за просто съхранение на Amazon (Amazon S3)Опишете предимствата на Amazon Elastic File System (Amazon EFS)Обобщаване на различни решения за съхранениеОпишете предимствата на услугата за релационни бази данни на Amazon (Amazon RDS)Опишете предимствата на Amazon DynamoDBОбобщаване на различни услуги за бази данниМодул 6: СигурностОбяснете ползите от модела на споделена отговорностОпишете многофакторното удостоверяване (MFA)Разграничаване на нивата на сигурност на AWS за управление на идентичността и достъпа (IAM)Опишете политиките за сигурност на основно нивоОбяснете ползите от AWS организациитеОбобщете ползите от спазването на AWSОбяснете основните услуги за сигурност на AWS на основно нивоМодул 7: Мониторинг и анализиОбобщете подходите за наблюдение на вашата AWS средаОпишете предимствата на Amazon CloudWatchОпишете предимствата на AWS CloudTrailОпишете предимствата на AWS Trusted AdvisorМодул 8: Ценообразуване и поддръжкаРазбиране на моделите за ценообразуване и поддръжка на AWSОпишете AWS Free TierОпишете основните предимства на организациите на AWS и консолидираното фактуриранеОбяснете ползите от бюджетите на AWSОбяснете ползите от AWS Cost ExplorerОбяснете основните предимства на калкулатора за ценообразуване на AWSРазграничаване на различните планове за поддръжка на AWSОпишете предимствата на пазара на AWSМодул 9: Миграция и иновацииРазбиране на миграцията и иновациите в облака на AWSОбобщете рамката за приемане на облака на AWS (AWS CAF)Обобщете шест ключови фактора на стратегията за миграция в облакаОпишете предимствата на различни решения за миграция на данни на AWS, като AWS Snowcone, AWS Snowball и AWS SnowmobileОбобщете широкия обхват на иновативните решения, които AWS предлагаМодул 10: Пътешествието в облакаОбобщете шестте стълба на добре проектираната рамка на AWSОбяснете шестте предимства на облачните изчисленияМодул 11: AWS Certified Cloud Practitioner ОсновиОпределете ресурсите за подготовка за изпита AWS Certified Cloud PractitionerОпишете ползите от това да станете сертифицирани по AWSОкончателна оценка на курсаРешете въпроси, подобни на тези, които се намират в изпита за сертифициране на AWS Cloud PractitionerЗадачата ще бъде оценена от нашия колега инструктор Джейда.За АлексАлекс Смит е вашият инструктор за този курс на AWS Cloud Practitioner. Той има над 10 години опит в облачните изчисления и е сертифициран по AWS практикуващ от 2017 г. насам.\n"
     ]
    }
   ],
   "source": [
    "from docx import Document\n",
    "\n",
    "# create an instance of a\n",
    "# word document we want to open\n",
    "doc = Document('aws-skill-builder.docx')\n",
    "\n",
    "\n",
    "\n",
    "# for printing the complete document\n",
    "print('\\nThe whole content of the document:_>>>\\n')\n",
    "text=\"\"\n",
    "og_text=\"\"\n",
    "for para in doc.paragraphs:\n",
    "    try:\n",
    "        og_text = og_text + para.text\n",
    "        text = text+ts.translate_text(para.text, translators='google', to_language='bg')\n",
    "    # break\n",
    "    except:\n",
    "        pass\n",
    "print(og_text)\n",
    "print(text)"
   ]
  },
  {
   "cell_type": "code",
   "execution_count": 5,
   "id": "be8a0d8c-3f9a-420e-a4e5-ea58c91dfc60",
   "metadata": {
    "tags": []
   },
   "outputs": [
    {
     "name": "stdout",
     "output_type": "stream",
     "text": [
      "T\n"
     ]
    }
   ],
   "source": []
  },
  {
   "cell_type": "code",
   "execution_count": 34,
   "id": "c8b281ae-679a-4ae8-bbe1-60f5640e2506",
   "metadata": {
    "tags": []
   },
   "outputs": [],
   "source": [
    "words = text.split('.')"
   ]
  },
  {
   "cell_type": "code",
   "execution_count": 35,
   "id": "a7a83313-c610-4a36-b824-31635e250d6f",
   "metadata": {
    "tags": []
   },
   "outputs": [
    {
     "data": {
      "text/plain": [
       "['Този курс беше актуализиран във вторник, 1 август 2023 г',\n",
       " ', когато напредъкът ви в курса може да е нарушен',\n",
       " ' Ако сте завършили курса преди тази дата, напредъкът ви не е бил засегнат',\n",
       " 'Този курс е предназначен за хора, които търсят цялостно разбиране на Amazon Web Services (AWS) Cloud, независимо от специфичните технически роли',\n",
       " ' Ще научите за концепциите на AWS Cloud, услугите на AWS, сигурността, архитектурата, ценообразуването и поддръжката, за да изградите знанията си за AWS Cloud',\n",
       " ' Този курс също ви помага да се подготвите за изпита AWS Certified Cloud Practitioner',\n",
       " ' Този курс е изготвен от Алекс Смит',\n",
       " ' Можете да прочетете за него по-късно в този документ',\n",
       " 'Ниво на курса: ФундаменталноПродължителност: 4 часаДейностиТози курс включва видео презентации, демонстрации, връзки към ресурси и проверки на знанията',\n",
       " 'Цели на курсаВ този курс ще се научите да:Обобщете работната дефиниция на AWSРазграничаване между локален, хибриден облак и all-in облакОпишете основната глобална инфраструктура на AWS CloudОбяснете шестте предимства на AWS облакаОпишете и дайте пример за основните услуги на AWS, включително изчисления, мрежа, бази данни и съхранениеИдентифициране на подходящо решение с помощта на услугите на AWS Cloud с различни случаи на използванеОпишете добре проектираната рамка на AWSОбяснете модела на споделена отговорностОпишете основните услуги за сигурност в облака на AWSОпишете основите на миграцията на AWS CloudФормулирайте финансовите ползи от AWS Cloud за управлението на разходите на организациятаОпределете основните модели за фактуриране, управление на сметки и ценообразуванеОбяснете как да използвате инструменти за ценообразуване, за да направите рентабилен избор за услугите на AWSЦелева аудиторияТози курс е предназначен за:ПродажбиЮридическиМаркетингБизнес анализаториРъководители на проектиСтуденти от Академия AWSДруги специалисти, свързани с ИТПредпоставкиПрепоръчваме на участниците в този курс да имат:Общи ИТ бизнес познанияОбщи ИТ технически познанияСтруктура на курсаМодул 1: Въведение в уеб услугите на AmazonОбобщете ползите от AWSОпишете разликите между доставката при поискване и внедряването в облакаОбобщете модела на ценообразуване при плащанеМодул 2: Изчисляване в облакаОпишете предимствата на Amazon Elastic Compute Cloud (Amazon EC2) на основно нивоИдентифицирайте различните типове екземпляри на Amazon EC2Разграничаване на различните опции за таксуване за Amazon EC2Опишете предимствата на Amazon EC2 Auto ScalingОбобщете ползите от еластичното балансиране на натоварванетоДайте пример за използването на еластично балансиране на натоварванетоОбобщете разликите между Amazon Simple Notification Service (Amazon SNS) и Amazon Simple Queue Services (Amazon SQS)Обобщаване на допълнителни опции за изчисляване на AWSПрочетете повече подробно от колегата инструктор Джейда БейкърМодул 3: Глобална инфраструктура и надеждностОбобщете ползите от глобалната инфраструктура на AWSОпишете основната концепция на зоните за наличностОпишете предимствата на местоположенията на Amazon CloudFront и EdgeСравняване на различни методи за осигуряване на AWS услугиМодул 4: Работа в мрежаОпишете основните понятия за работа в мрежаОпишете разликата между публични и частни мрежови ресурсиОбяснете виртуален частен шлюз, като използвате сценарий от реалния животОбяснете виртуална частна мрежа (VPN), като използвате сценарий от реалния живот\\nОпишете ползата от AWS Direct ConnectОпишете ползата от хибридните внедряванияОпишете слоевете на сигурност, използвани в ИТ стратегиятаОпишете кои услуги се използват за взаимодействие с глобалната мрежа на AWSМодул 5: Съхранение и бази данниОбобщете основната концепция за съхранение и бази данниОпишете предимствата на Amazon Elastic Block Store (Amazon EBS)Опишете предимствата на услугата за просто съхранение на Amazon (Amazon S3)Опишете предимствата на Amazon Elastic File System (Amazon EFS)Обобщаване на различни решения за съхранениеОпишете предимствата на услугата за релационни бази данни на Amazon (Amazon RDS)Опишете предимствата на Amazon DynamoDBОбобщаване на различни услуги за бази данниМодул 6: СигурностОбяснете ползите от модела на споделена отговорностОпишете многофакторното удостоверяване (MFA)Разграничаване на нивата на сигурност на AWS за управление на идентичността и достъпа (IAM)Опишете политиките за сигурност на основно нивоОбяснете ползите от AWS организациитеОбобщете ползите от спазването на AWSОбяснете основните услуги за сигурност на AWS на основно нивоМодул 7: Мониторинг и анализиОбобщете подходите за наблюдение на вашата AWS средаОпишете предимствата на Amazon CloudWatchОпишете предимствата на AWS CloudTrailОпишете предимствата на AWS Trusted AdvisorМодул 8: Ценообразуване и поддръжкаРазбиране на моделите за ценообразуване и поддръжка на AWSОпишете AWS Free TierОпишете основните предимства на организациите на AWS и консолидираното фактуриранеОбяснете ползите от бюджетите на AWSОбяснете ползите от AWS Cost ExplorerОбяснете основните предимства на калкулатора за ценообразуване на AWSРазграничаване на различните планове за поддръжка на AWSОпишете предимствата на пазара на AWSМодул 9: Миграция и иновацииРазбиране на миграцията и иновациите в облака на AWSОбобщете рамката за приемане на облака на AWS (AWS CAF)Обобщете шест ключови фактора на стратегията за миграция в облакаОпишете предимствата на различни решения за миграция на данни на AWS, като AWS Snowcone, AWS Snowball и AWS SnowmobileОбобщете широкия обхват на иновативните решения, които AWS предлагаМодул 10: Пътешествието в облакаОбобщете шестте стълба на добре проектираната рамка на AWSОбяснете шестте предимства на облачните изчисленияМодул 11: AWS Certified Cloud Practitioner ОсновиОпределете ресурсите за подготовка за изпита AWS Certified Cloud PractitionerОпишете ползите от това да станете сертифицирани по AWSОкончателна оценка на курсаРешете въпроси, подобни на тези, които се намират в изпита за сертифициране на AWS Cloud PractitionerЗадачата ще бъде оценена от нашия колега инструктор Джейда',\n",
       " 'За АлексАлекс Смит е вашият инструктор за този курс на AWS Cloud Practitioner',\n",
       " ' Той има над 10 години опит в облачните изчисления и е сертифициран по AWS практикуващ от 2017 г',\n",
       " ' насам',\n",
       " '']"
      ]
     },
     "execution_count": 35,
     "metadata": {},
     "output_type": "execute_result"
    }
   ],
   "source": [
    "words"
   ]
  },
  {
   "cell_type": "code",
   "execution_count": 36,
   "id": "78149ec1-3df5-460b-b4e8-5dd5f974f5ce",
   "metadata": {
    "tags": []
   },
   "outputs": [],
   "source": [
    "import spacy\n",
    "from spacy import displacy\n",
    "from spacy import tokenizer\n",
    "nlp = spacy.load('en_core_web_sm')"
   ]
  },
  {
   "cell_type": "code",
   "execution_count": 43,
   "id": "319b3ff1-2313-49b0-98f1-d06a9faf1fff",
   "metadata": {
    "tags": []
   },
   "outputs": [],
   "source": [
    "doc = nlp(og_text)"
   ]
  },
  {
   "cell_type": "code",
   "execution_count": 38,
   "id": "81067a76-ef89-4625-b09b-e9c85fcb0db9",
   "metadata": {
    "tags": []
   },
   "outputs": [
    {
     "name": "stdout",
     "output_type": "stream",
     "text": [
      "[Този курс беше актуализиран във вторник, 1 август 2023 г., когато напредъкът ви в курса може да е нарушен., Ако сте завършили курса преди тази дата, напредъкът ви не е бил засегнат., Този курс е предназначен за хора, които търсят цялостно разбиране на Amazon Web Services (AWS), Cloud, независимо от специфичните технически роли., Ще научите за концепциите на AWS Cloud, услугите на AWS, сигурността, архитектурата, ценообразуването и поддръжката, за да изградите знанията си за AWS Cloud., Този курс също ви помага да, се подготвите за изпита AWS Certified Cloud Practitioner., Този курс е изготвен от Алекс Смит., Можете да прочетете за него по-късно в този документ., Ниво, на курса:, ФундаменталноПродължителност: 4 часаДейностиТози курс включва видео презентации, демонстрации, връзки към ресурси и проверки на знанията., Цели на курсаВ този курс ще се научите да:, Обобщете работната дефиниция, на AWSРазграничаване между локален, хибриден облак и all-in облакОпишете основната глобална инфраструктура на AWS CloudОбяснете шестте предимства на AWS облакаОпишете и дайте пример за основните услуги на AWS, включително изчисления, мрежа, бази данни и съхранениеИдентифициране на, подходящо решение с помощта на услугите на AWS, Cloud с различни случаи на използванеОпишете добре проектираната рамка на AWSОбяснете модела на споделена отговорностОпишете основните услуги за сигурност в облака, на AWSОпишете основите на миграцията на AWS, CloudФормулирайте финансовите ползи от AWS Cloud за управлението на разходите на организациятаОпределете основните модели за фактуриране, управление на сметки и ценообразуванеОбяснете как да използвате инструменти за ценообразуване, за да направите рентабилен избор за услугите на AWSЦелева аудиторияТози курс е предназначен за:ПродажбиЮридическиМаркетингБизнес анализаториРъководители на проектиСтуденти от Академия AWSДруги специалисти, свързани с ИТПредпоставкиПрепоръчваме, на участниците в този курс да имат:, Общи ИТ бизнес познанияОбщи ИТ технически познанияСтруктура на курсаМодул 1:, Въведение в уеб услугите на AmazonОбобщете ползите от AWSОпишете разликите между доставката при поискване и внедряването в облакаОбобщете модела на ценообразуване при плащанеМодул 2: Изчисляване в облакаОпишете предимствата на, Amazon Elastic Compute Cloud (Amazon EC2), на основно нивоИдентифицирайте различните типове екземпляри на Amazon EC2Разграничаване на различните опции за таксуване за, Amazon EC2Опишете предимствата на Amazon EC2 Auto ScalingОбобщете ползите от еластичното балансиране на натоварванетоДайте пример за използването на еластично балансиране, на натоварванетоОбобщете разликите между Amazon Simple Notification Service (Amazon SNS) и Amazon Simple Queue Services (Amazon SQS)Обобщаване на допълнителни, опции за изчисляване, на AWSПрочетете повече подробно от колегата инструктор Джейда БейкърМодул 3: Глобална инфраструктура и надеждностОбобщете ползите от глобалната инфраструктура, на AWSОпишете основната концепция, на зоните за наличностОпишете предимствата на местоположенията на Amazon CloudFront и EdgeСравняване на различни методи за осигуряване на AWS услугиМодул 4: Работа в мрежаОпишете основните понятия за работа в мрежаОпишете разликата между публични и частни мрежови ресурсиОбяснете виртуален частен шлюз, като използвате сценарий от реалния животОбяснете виртуална частна мрежа (VPN), като използвате сценарий от реалния живот\n",
      "Опишете ползата от AWS Direct ConnectОпишете ползата от хибридните внедряванияОпишете слоевете, на сигурност, използвани в ИТ стратегиятаОпишете кои услуги, се използват за взаимодействие с глобалната мрежа на AWSМодул 5: Съхранение и бази данниОбобщете основната концепция за, съхранение и бази данниОпишете, предимствата на Amazon Elastic Block Store (Amazon EBS)Опишете предимствата на услугата за просто съхранение, на Amazon (Amazon S3)Опишете предимствата на Amazon Elastic File System (Amazon EFS)Обобщаване на различни решения за съхранениеОпишете предимствата на услугата за релационни бази данни на Amazon (Amazon RDS)Опишете предимствата на Amazon DynamoDBОбобщаване на различни услуги за бази данниМодул, 6, :, СигурностОбяснете ползите от модела на споделена отговорностОпишете многофакторното удостоверяване (MFA)Разграничаване на нивата на сигурност на AWS за управление, на, идентичността и достъпа (IAM)Опишете политиките за сигурност, на основно нивоОбяснете ползите от AWS организациитеОбобщете ползите от спазването, на AWSОбяснете основните услуги за сигурност на AWS на основно нивоМодул 7: Мониторинг и анализиОбобщете подходите за наблюдение на вашата AWS средаОпишете предимствата, на Amazon CloudWatchОпишете предимствата на AWS CloudTrailОпишете предимствата на AWS Trusted AdvisorМодул 8:, Ценообразуване и поддръжкаРазбиране на моделите за ценообразуване и поддръжка на AWSОпишете AWS Free TierОпишете основните предимства на организациите на AWS и консолидираното фактуриранеОбяснете ползите от бюджетите на AWSОбяснете ползите от AWS Cost ExplorerОбяснете основните предимства на калкулатора за ценообразуване, на, AWSРазграничаване на различните планове за поддръжка, на AWSОпишете предимствата на пазара, на AWSМодул 9:, Миграция и иновацииРазбиране, на миграцията и иновациите в облака, на AWSОбобщете рамката за приемане на облака на AWS (AWS CAF)Обобщете шест ключови фактора, на стратегията за миграция в облакаОпишете предимствата на различни решения за миграция, на данни на AWS, като AWS Snowcone, AWS Snowball и AWS, SnowmobileОбобщете широкия обхват на иновативните решения, които AWS предлагаМодул 10: Пътешествието в облакаОбобщете, шестте стълба на добре проектираната рамка, на AWSОбяснете шестте предимства, на облачните изчисленияМодул 11: AWS Certified Cloud Practitioner ОсновиОпределете ресурсите за подготовка за изпита AWS, Certified Cloud PractitionerОпишете ползите от това да станете сертифицирани по AWSОкончателна оценка на курсаРешете въпроси, подобни на тези, които се намират в, изпита за сертифициране на AWS, Cloud PractitionerЗадачата ще бъде оценена от нашия колега инструктор Джейда., За АлексАлекс Смит е вашият инструктор за този курс на AWS Cloud Practitioner., Той има над 10 години опит в облачните изчисления и е сертифициран по AWS практикуващ от 2017 г. насам.]\n"
     ]
    }
   ],
   "source": [
    "sentences = list(doc.sents)\n",
    "print(sentences)"
   ]
  },
  {
   "cell_type": "code",
   "execution_count": 40,
   "id": "fb8a5c34-a4a2-4559-99de-407628e92ea2",
   "metadata": {
    "tags": []
   },
   "outputs": [
    {
     "name": "stdout",
     "output_type": "stream",
     "text": [
      "Този\n"
     ]
    }
   ],
   "source": [
    "for token in doc:\n",
    "    print(token.text)\n",
    "    break"
   ]
  },
  {
   "cell_type": "code",
   "execution_count": 44,
   "id": "493f0ac9-e180-443d-b7a8-3e0b11d7c6ab",
   "metadata": {
    "tags": []
   },
   "outputs": [
    {
     "name": "stdout",
     "output_type": "stream",
     "text": [
      "[('Cloud Practitioner', 535, 553, 'PERSON'), ('Alex Smith', 601, 611, 'PERSON'), ('Jada BakerModule', 2712, 2728, 'PERSON'), ('Cloud Practitioner BasicsDetermine', 5422, 5456, 'PERSON'), ('Cloud Practitioner', 5503, 5521, 'PERSON'), ('Jada', 5748, 5752, 'PERSON'), ('Cloud Practitioner', 5807, 5825, 'PERSON')]\n"
     ]
    }
   ],
   "source": [
    "ents = [(e.text, e.start_char, e.end_char, e.label_) for e in doc.ents if e.label_=='PERSON']\n",
    "print(ents)"
   ]
  },
  {
   "cell_type": "code",
   "execution_count": null,
   "id": "34d9e64c-bb65-4d60-a5f5-b3b08ab6c840",
   "metadata": {},
   "outputs": [],
   "source": []
  },
  {
   "cell_type": "code",
   "execution_count": null,
   "id": "868aafa8-ba9b-4e11-9922-1019a5757812",
   "metadata": {},
   "outputs": [],
   "source": []
  },
  {
   "cell_type": "code",
   "execution_count": null,
   "id": "b71c8876-70f3-4684-8fa4-5033b79b383d",
   "metadata": {},
   "outputs": [],
   "source": []
  },
  {
   "cell_type": "code",
   "execution_count": null,
   "id": "f0282e9d-9d57-4baf-9a4f-c5b59c7c0875",
   "metadata": {},
   "outputs": [],
   "source": []
  },
  {
   "cell_type": "code",
   "execution_count": 23,
   "id": "d5f931a2-d6a4-49ca-9590-d91d1ff227bb",
   "metadata": {
    "tags": []
   },
   "outputs": [
    {
     "data": {
      "text/plain": [
       "\u001b[1;31mSignature:\u001b[0m\n",
       "\u001b[0mts\u001b[0m\u001b[1;33m.\u001b[0m\u001b[0mtranslate_text\u001b[0m\u001b[1;33m(\u001b[0m\u001b[1;33m\n",
       "\u001b[0m    \u001b[0mquery_text\u001b[0m\u001b[1;33m:\u001b[0m \u001b[0mstr\u001b[0m\u001b[1;33m,\u001b[0m\u001b[1;33m\n",
       "\u001b[0m    \u001b[0mtranslator\u001b[0m\u001b[1;33m:\u001b[0m \u001b[0mstr\u001b[0m \u001b[1;33m=\u001b[0m \u001b[1;34m'bing'\u001b[0m\u001b[1;33m,\u001b[0m\u001b[1;33m\n",
       "\u001b[0m    \u001b[0mfrom_language\u001b[0m\u001b[1;33m:\u001b[0m \u001b[0mstr\u001b[0m \u001b[1;33m=\u001b[0m \u001b[1;34m'auto'\u001b[0m\u001b[1;33m,\u001b[0m\u001b[1;33m\n",
       "\u001b[0m    \u001b[0mto_language\u001b[0m\u001b[1;33m:\u001b[0m \u001b[0mstr\u001b[0m \u001b[1;33m=\u001b[0m \u001b[1;34m'en'\u001b[0m\u001b[1;33m,\u001b[0m\u001b[1;33m\n",
       "\u001b[0m    \u001b[0mif_use_preacceleration\u001b[0m\u001b[1;33m:\u001b[0m \u001b[0mbool\u001b[0m \u001b[1;33m=\u001b[0m \u001b[1;32mFalse\u001b[0m\u001b[1;33m,\u001b[0m\u001b[1;33m\n",
       "\u001b[0m    \u001b[1;33m**\u001b[0m\u001b[0mkwargs\u001b[0m\u001b[1;33m:\u001b[0m \u001b[0mUnion\u001b[0m\u001b[1;33m[\u001b[0m\u001b[0mstr\u001b[0m\u001b[1;33m,\u001b[0m \u001b[0mint\u001b[0m\u001b[1;33m,\u001b[0m \u001b[0mfloat\u001b[0m\u001b[1;33m,\u001b[0m \u001b[0mbool\u001b[0m\u001b[1;33m,\u001b[0m \u001b[0mdict\u001b[0m\u001b[1;33m]\u001b[0m\u001b[1;33m,\u001b[0m\u001b[1;33m\n",
       "\u001b[0m\u001b[1;33m)\u001b[0m \u001b[1;33m->\u001b[0m \u001b[0mUnion\u001b[0m\u001b[1;33m[\u001b[0m\u001b[0mstr\u001b[0m\u001b[1;33m,\u001b[0m \u001b[0mdict\u001b[0m\u001b[1;33m]\u001b[0m\u001b[1;33m\u001b[0m\u001b[1;33m\u001b[0m\u001b[0m\n",
       "\u001b[1;31mDocstring:\u001b[0m\n",
       ":param query_text: str, must.\n",
       ":param translator: str, default 'bing'.\n",
       ":param from_language: str, default 'auto'.\n",
       ":param to_language: str, default 'en'.\n",
       ":param if_use_preacceleration: bool, default False.\n",
       ":param **kwargs:\n",
       "        :param is_detail_result: bool, default False.\n",
       "        :param professional_field: str, support alibaba(), baidu(), caiyun(), cloudTranslation(), elia(), sysTran(), youdao(), volcEngine() only.\n",
       "        :param timeout: float, default None.\n",
       "        :param proxies: dict, default None.\n",
       "        :param sleep_seconds: float, default 0.\n",
       "        :param update_session_after_freq: int, default 1000.\n",
       "        :param update_session_after_seconds: float, default 1500.\n",
       "        :param if_use_cn_host: bool, default False. Support google(), bing() only.\n",
       "        :param reset_host_url: str, default None. Support google(), argos(), yandex() only.\n",
       "        :param if_check_reset_host_url: bool, default True. Support google(), yandex() only.\n",
       "        :param if_ignore_empty_query: bool, default False.\n",
       "        :param if_ignore_limit_of_length: bool, default False.\n",
       "        :param limit_of_length: int, default 20000.\n",
       "        :param if_show_time_stat: bool, default False.\n",
       "        :param show_time_stat_precision: int, default 2.\n",
       "        :param if_print_warning: bool, default True.\n",
       "        :param lingvanex_model: str, default 'B2C', choose from (\"B2C\", \"B2B\").\n",
       "        :param myMemory_mode: str, default \"web\", choose from (\"web\", \"api\").\n",
       ":return: str or dict\n",
       "\u001b[1;31mFile:\u001b[0m      c:\\users\\svr\\appdata\\local\\programs\\python\\python311\\lib\\site-packages\\translators\\server.py\n",
       "\u001b[1;31mType:\u001b[0m      method"
      ]
     },
     "metadata": {},
     "output_type": "display_data"
    }
   ],
   "source": [
    "import translators as ts\n",
    "# ts.google\n",
    "# ts._google.language_map\n",
    "ts.translate_text?"
   ]
  },
  {
   "cell_type": "code",
   "execution_count": 22,
   "id": "3149bf31-0f2d-41dc-93b6-7d378eb44468",
   "metadata": {
    "tags": []
   },
   "outputs": [],
   "source": [
    "list_of_langs = [\"Afrikaans_af\",\n",
    "\"Albanian_sq\",\n",
    "\"Amharic_am\",\n",
    "\"Arabic_ar\",\n",
    "\"Armenian_hy\",\n",
    "\"Assamese_as\",\n",
    "\"Aymara_ay\",\n",
    "\"Azerbaijani_az\",\n",
    "\"Bambara_bm\",\n",
    "\"Basque_eu\",\n",
    "\"Belarusian_be\",\n",
    "\"Bengali_bn\",\n",
    "'Bhojpuri_bho',\n",
    "\"Bosnian_bs\",\n",
    "\"Bulgarian_bg\",\n",
    "\"Catalan_ca\",\n",
    "'Cebuano_ceb',\n",
    "\"Chinese (Simplified)_zh_CN or zh\",\n",
    "\"Chinese (Traditional)_zh_TW\",\n",
    "\"Corsican_co\",\n",
    "\"Croatian_hr\",\n",
    "\"Czech_cs\",\n",
    "\"Danish_da\",\n",
    "\"Dhivehi_dv\",\n",
    "\"Dogri_doi\",\n",
    "\"Dutch_nl\",\n",
    "\"English_en\",\n",
    "    \"Esperanto_eo\",\n",
    "    \"Estonian_et\",\n",
    "    \"Ewe_ee\",\n",
    "    \"Filipino (Tagalog)_fil\",\n",
    "    \"Finnish_fi\",\n",
    "    \"French_fr\",\n",
    "    \"Frisian_fy\",\n",
    "    \"Galician_gl\",\n",
    "    \"Georgian_ka\",\n",
    "    \"German_de\",\n",
    "    \"Greek_el\",\n",
    "    \"Guarani_gn\",\n",
    "    \"Gujarati_gu\",\n",
    "    \"Haitian Creole_ht\",\n",
    "    \"Hausa_ha\",\n",
    "    \"Hawaiian_haw\",\n",
    "    \"Hebrew_he or iw\",\n",
    "    \"Hindi_hi\",\n",
    "    \"Hmong_hmn\",\n",
    "    \"Hungarian_hu\",\n",
    "    \"Icelandic_is\",\n",
    "    \"Igbo_ig\",\n",
    "    \"Ilocano_ilo\",\n",
    "    \"Indonesian_id\",\n",
    "    \"Irish_ga\",\n",
    "    \"Italian_it\",\n",
    "    \"Japanese_ja\",\n",
    "    \"Javanese_jv or jw\",\n",
    "    \"Kannada_kn\",\n",
    "    \"Kazakh_kk\",\n",
    "    \"Khmer_km\",\n",
    "    \"Kinyarwanda_rw\",\n",
    "    \"Konkani_gom\",\n",
    "    \"Korean_ko\",\n",
    "    \"Krio_kri\",\n",
    "    \"Kurdish_ku\",\n",
    "    \"Kurdish (Sorani)_ckb\",\n",
    "    \"Kyrgyz_ky\",\n",
    "    \"Lao_lo\",\n",
    "    \"Latin_la\",\n",
    "    \"Latvian_lv\",\n",
    "    \"Lingala_ln\",\n",
    "    \"Lithuanian_lt\",\n",
    "    \"Luganda_lg\",\n",
    "    \"Luxembourgish_lb\",\n",
    "    \"Macedonian_mk\",\n",
    "    \"Maithili_mai\",\n",
    "    \"Malagasy_mg\",\n",
    "    \"Malay_ms\",\n",
    "    \"Malayalam_ml\",\n",
    "    \"Maltese_mt\",\n",
    "    \"Maori_mi\",\n",
    "    \"Marathi_mr\",\n",
    "    \"Meiteilon (Manipuri)_mni_Mtei\",\n",
    "    \"Mizo_lus\",\n",
    "    \"Mongolian_mn\",\n",
    "    \"Myanmar (Burmese)_my\",\n",
    "    \"Nepali_ne\",\n",
    "    \"Norwegian_no\",\n",
    "    \"Nyanja (Chichewa)_ny\",\n",
    "    \"Odia (Oriya)_or\",\n",
    "    \"Oromo_om\",\n",
    "    \"Pashto_ps\",\n",
    "    \"Persian_fa\",\n",
    "    \"Polish_pl\",\n",
    "    \"Portuguese (Portugal, Brazil)_pt\",\n",
    "    \"Punjabi_pa\",\n",
    "    \"Quechua_qu\",\n",
    "    \"Romanian_ro\",\n",
    "    \"Russian_ru\",\n",
    "    \"Samoan_sm\",\n",
    "    \"Sanskrit_sa\",\n",
    "    \"Scots Gaelic_gd\",\n",
    "    \"Sepedi_nso\",\n",
    "    \"Serbian_sr\",\n",
    "    \"Sesotho_st\",\n",
    "    \"Shona_sn\",\n",
    "    \"Sindhi_sd\",\n",
    "    \"Sinhala (Sinhalese)_si\",\n",
    "    \"Slovak_sk\",\n",
    "    \"Slovenian_sl\",\n",
    "    \"Somali_so\",\n",
    "    \"Spanish_es\",\n",
    "    \"Sundanese_su\",\n",
    "    \"Swahili_sw\",\n",
    "    \"Swedish_sv\",\n",
    "    \"Tagalog (Filipino)_tl\",\n",
    "    \"Tajik_tg\",\n",
    "    \"Tamil_ta\",\n",
    "    \"Tatar_tt\",\n",
    "    \"Telugu_te\",\n",
    "    \"Thai_th\",\n",
    "    \"Tigrinya_ti\",\n",
    "    \"Tsonga_ts\",\n",
    "    \"Turkish_tr\",\n",
    "    \"Turkmen_tk\",\n",
    "    \"Twi (Akan)_ak\",\n",
    "    \"Ukrainian_uk\",\n",
    "    \"Urdu_ur\",\n",
    "    \"Uyghur_ug\",\n",
    "    \"Uzbek_uz\",\n",
    "    \"Vietnamese_vi\",\n",
    "    \"Welsh_cy\",\n",
    "    \"Xhosa_xh\",\n",
    "    \"Yiddish_yi\",\n",
    "    \"Yoruba_yo\",\n",
    "    \"Zulu_zu\"]"
   ]
  },
  {
   "cell_type": "code",
   "execution_count": 50,
   "id": "bd5ca66f-9f76-4c11-9ac6-4653728f818e",
   "metadata": {
    "tags": []
   },
   "outputs": [],
   "source": [
    "lang_dict = {\n",
    "    \"Afrikaans\": \"af\",\n",
    "    \"Albanian\": \"sq\",\n",
    "    \"Amharic\": \"am\",\n",
    "    \"Arabic\": \"ar\",\n",
    "    \"Armenian\": \"hy\",\n",
    "    \"Assamese\": \"as\",\n",
    "    \"Aymara\": \"ay\",\n",
    "    \"Azerbaijani\": \"az\",\n",
    "    \"Bambara\": \"bm\",\n",
    "    \"Basque\": \"eu\",\n",
    "    \"Belarusian\": \"be\",\n",
    "    \"Bengali\": \"bn\",\n",
    "    \"Bhojpuri\": \"bho\",\n",
    "    \"Bosnian\": \"bs\",\n",
    "    \"Bulgarian\": \"bg\",\n",
    "    \"Catalan\": \"ca\",\n",
    "    \"Cebuano\": \"ceb\",\n",
    "    \"Chinese (Simplified)\": \"zh\",\n",
    "    \"Chinese (Traditional)\": \"zh_TW\",\n",
    "    \"Corsican\": \"co\",\n",
    "    \"Croatian\": \"hr\",\n",
    "    \"Czech\": \"cs\",\n",
    "    \"Danish\": \"da\",\n",
    "    \"Dhivehi\": \"dv\",\n",
    "    \"Dogri\": \"doi\",\n",
    "    \"Dutch\": \"nl\",\n",
    "    \"English\": \"en\",\n",
    "    \"Esperanto\": \"eo\",\n",
    "    \"Estonian\": \"et\",\n",
    "    \"Ewe\": \"ee\",\n",
    "    \"Filipino (Tagalog)\": \"fil\",\n",
    "    \"Finnish\": \"fi\",\n",
    "    \"French\": \"fr\",\n",
    "    \"Frisian\": \"fy\",\n",
    "    \"Galician\": \"gl\",\n",
    "    \"Georgian\": \"ka\",\n",
    "    \"German\": \"de\",\n",
    "    \"Greek\": \"el\",\n",
    "    \"Guarani\": \"gn\",\n",
    "    \"Gujarati\": \"gu\",\n",
    "    \"Haitian Creole\": \"ht\",\n",
    "    \"Hausa\": \"ha\",\n",
    "    \"Hawaiian\": \"haw\",\n",
    "    \"Hebrew\": \"iw\",\n",
    "    \"Hindi\": \"hi\",\n",
    "    \"Hmong\": \"hmn\",\n",
    "    \"Hungarian\": \"hu\",\n",
    "    \"Icelandic\": \"is\",\n",
    "    \"Igbo\": \"ig\",\n",
    "    \"Ilocano\": \"ilo\",\n",
    "    \"Indonesian\": \"id\",\n",
    "    \"Irish\": \"ga\",\n",
    "    \"Italian\": \"it\",\n",
    "    \"Japanese\": \"ja\",\n",
    "    \"Javanese\": \"jw\",\n",
    "    \"Kannada\": \"kn\",\n",
    "    \"Kazakh\": \"kk\",\n",
    "    \"Khmer\": \"km\",\n",
    "    \"Kinyarwanda\": \"rw\",\n",
    "    \"Konkani\": \"gom\",\n",
    "    \"Korean\": \"ko\",\n",
    "    \"Krio\": \"kri\",\n",
    "    \"Kurdish\": \"ku\",\n",
    "    \"Kurdish (Sorani)\": \"ckb\",\n",
    "    \"Kyrgyz\": \"ky\",\n",
    "    \"Lao\": \"lo\",\n",
    "    \"Latin\": \"la\",\n",
    "    \"Latvian\": \"lv\",\n",
    "    \"Lingala\": \"ln\",\n",
    "    \"Lithuanian\": \"lt\",\n",
    "    \"Luganda\": \"lg\",\n",
    "    \"Luxembourgish\": \"lb\",\n",
    "    \"Macedonian\": \"mk\",\n",
    "    \"Maithili\": \"mai\",\n",
    "    \"Malagasy\": \"mg\",\n",
    "    \"Malay\": \"ms\",\n",
    "    \"Malayalam\": \"ml\",\n",
    "    \"Maltese\": \"mt\",\n",
    "    \"Maori\": \"mi\",\n",
    "    \"Marathi\": \"mr\",\n",
    "    \"Meiteilon (Manipuri)\": \"mni_Mtei\",\n",
    "    \"Mizo\": \"lus\",\n",
    "    \"Mongolian\": \"mn\",\n",
    "    \"Myanmar (Burmese)\": \"my\",\n",
    "    \"Nepali\": \"ne\",\n",
    "    \"Norwegian\": \"no\",\n",
    "    \"Nyanja (Chichewa)\": \"ny\",\n",
    "    \"Odia (Oriya)\": \"or\",\n",
    "    \"Oromo\": \"om\",\n",
    "    \"Pashto\": \"ps\",\n",
    "    \"Persian\": \"fa\",\n",
    "    \"Polish\": \"pl\",\n",
    "    \"Portuguese (Portugal, Brazil)\": \"pt\",\n",
    "    \"Punjabi\": \"pa\",\n",
    "    \"Quechua\": \"qu\",\n",
    "    \"Romanian\": \"ro\",\n",
    "    \"Russian\": \"ru\",\n",
    "    \"Samoan\": \"sm\",\n",
    "    \"Sanskrit\": \"sa\",\n",
    "    \"Scots Gaelic\": \"gd\",\n",
    "    \"Sepedi\": \"nso\",\n",
    "    \"Serbian\": \"sr\",\n",
    "    \"Sesotho\": \"st\",\n",
    "    \"Shona\": \"sn\",\n",
    "    \"Sindhi\": \"sd\",\n",
    "    \"Sinhala (Sinhalese)\": \"si\",\n",
    "    \"Slovak\": \"sk\",\n",
    "    \"Slovenian\": \"sl\",\n",
    "     \"Somali\": \"so\",\n",
    "    \"Spanish\": \"es\",\n",
    "    \"Sundanese\": \"su\",\n",
    "    \"Swahili\": \"sw\",\n",
    "    \"Swedish\": \"sv\",\n",
    "    \"Tagalog (Filipino)\": \"tl\",\n",
    "    \"Tajik\": \"tg\",\n",
    "    \"Tamil\": \"ta\",\n",
    "    \"Tatar\": \"tt\",\n",
    "    \"Telugu\": \"te\",\n",
    "    \"Thai\": \"th\",\n",
    "    \"Tigrinya\": \"ti\",\n",
    "    \"Tsonga\": \"ts\",\n",
    "    \"Turkish\": \"tr\",\n",
    "    \"Turkmen\": \"tk\",\n",
    "    \"Twi (Akan)\": \"ak\",\n",
    "    \"Ukrainian\": \"uk\",\n",
    "    \"Urdu\": \"ur\",\n",
    "    \"Uyghur\": \"ug\",\n",
    "    \"Uzbek\": \"uz\",\n",
    "    \"Vietnamese\": \"vi\",\n",
    "    \"Welsh\": \"cy\",\n",
    "    \"Xhosa\": \"xh\",\n",
    "    \"Yiddish\": \"yi\",\n",
    "    \"Yoruba\": \"yo\",\n",
    "    \"Zulu\": \"zu\"\n",
    "}\n"
   ]
  },
  {
   "cell_type": "code",
   "execution_count": 55,
   "id": "3428adf3-1d06-4730-b673-186114a075a2",
   "metadata": {},
   "outputs": [
    {
     "data": {
      "text/plain": [
       "'af'"
      ]
     },
     "execution_count": 55,
     "metadata": {},
     "output_type": "execute_result"
    }
   ],
   "source": [
    "lang_dict['Afrikaans']"
   ]
  },
  {
   "cell_type": "code",
   "execution_count": null,
   "id": "fb0d2b87-8faf-4b5c-9f97-1f69a7b93020",
   "metadata": {},
   "outputs": [],
   "source": []
  }
 ],
 "metadata": {
  "kernelspec": {
   "display_name": "Python 3 (ipykernel)",
   "language": "python",
   "name": "python3"
  },
  "language_info": {
   "codemirror_mode": {
    "name": "ipython",
    "version": 3
   },
   "file_extension": ".py",
   "mimetype": "text/x-python",
   "name": "python",
   "nbconvert_exporter": "python",
   "pygments_lexer": "ipython3",
   "version": "3.11.2"
  }
 },
 "nbformat": 4,
 "nbformat_minor": 5
}
